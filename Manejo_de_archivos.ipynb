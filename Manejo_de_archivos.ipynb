{
 "cells": [
  {
   "cell_type": "markdown",
   "metadata": {},
   "source": [
    "# Manejo de archivos "
   ]
  },
  {
   "cell_type": "code",
   "execution_count": 10,
   "metadata": {
    "collapsed": false
   },
   "outputs": [],
   "source": [
    "#Importamos librerias\n",
    "from pylab import *\n",
    "%matplotlib inline\n",
    "import matplotlib.pyplot as plt \n",
    "import numpy\n",
    "%matplotlib inline"
   ]
  },
  {
   "cell_type": "code",
   "execution_count": 11,
   "metadata": {
    "collapsed": true
   },
   "outputs": [],
   "source": [
    "#función         \n",
    "def leer_archivo(nombre,inicio=2,separador=' '): \n",
    "    \n",
    "    #Se va a abrir el archivo\n",
    "    entrada=open(nombre,\"r\")\n",
    "    \n",
    "    #Leer el contenido línea por línea\n",
    "    contenido = entrada.readlines()\n",
    "    \n",
    "    entrada.close() \n",
    "    \n",
    "    #definimos dos listas vacias x, y para guardar los datos\n",
    "    x_leida, y_leida = numpy.zeros(len(contenido)-inicio),numpy.zeros(len(contenido)-inicio) #\n",
    "    \n",
    "    #Lo siguiente  te muestra el numero de líneas (totales con todo y strings)\n",
    "    print len(contenido)\n",
    "    \n",
    "    #Abrimos ciclo for para comenzar a meter los datos a las listas vacias\n",
    "    for i in range(0, len(contenido)-inicio): \n",
    "        \n",
    "        #Va a leer linea por linea\n",
    "        linea = contenido[i + inicio] \n",
    "        \n",
    "        #Cada que encuentre un separador salta al siguiente dato para guardarlo en forma de lista\n",
    "        datos = linea.split(separador)\n",
    "        \n",
    "        #Guardamos los datos leídos en las listas vacias x, y \n",
    "        x_leida[i],y_leida[i] = float(datos[0]),float(datos[1])\n",
    "        \n",
    "    #Cerramos loop y transformamos listas en vectores\n",
    "    xv = np.array(x_leida)\n",
    "    yv = np.array(y_leida)\n",
    "    \n",
    "    #Graficar\n",
    "    plt.title(u'Datos Prueba.txt')\n",
    "    plt.xlabel('eje de las x')\n",
    "    plt.ylabel('eje de las y')\n",
    "    plt.plot(xv, yv)\n",
    "    plt.show()"
   ]
  },
  {
   "cell_type": "code",
   "execution_count": null,
   "metadata": {
    "collapsed": true
   },
   "outputs": [],
   "source": [
    "#Ya que tenemos la función la mandamos a llamar para generar la gráfica\n",
    "#Pueden cambiarlas según la forma en la que esten acomodados sus datos en el archivo txt\n",
    "#importante: deben de tener el archivo txt en la misma carpeta que el programa.\n",
    "leer_archivo('prueba.txt', inicio=2, separador=' ')"
   ]
  }
 ],
 "metadata": {
  "anaconda-cloud": {},
  "kernelspec": {
   "display_name": "Python [default]",
   "language": "python",
   "name": "python2"
  },
  "language_info": {
   "codemirror_mode": {
    "name": "ipython",
    "version": 2
   },
   "file_extension": ".py",
   "mimetype": "text/x-python",
   "name": "python",
   "nbconvert_exporter": "python",
   "pygments_lexer": "ipython2",
   "version": "2.7.12"
  }
 },
 "nbformat": 4,
 "nbformat_minor": 0
}
